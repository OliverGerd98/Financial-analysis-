{
 "cells": [
  {
   "cell_type": "code",
   "execution_count": null,
   "id": "0a138821-2fb7-48fb-880f-38d6741ac533",
   "metadata": {},
   "outputs": [
    {
     "name": "stdout",
     "output_type": "stream",
     "text": [
      "BTC Durchschnittspreis: 102226.35 USD\n"
     ]
    }
   ],
   "source": [
    "import time\n",
    "import requests\n",
    "\n",
    "def fetch_price(url, params=None):\n",
    "    try:\n",
    "        response = requests.get(url, params=params, timeout=5)\n",
    "        data = response.json()\n",
    "        return data\n",
    "    except Exception as e:\n",
    "        print(f\"Fehler beim Abrufen des Preises von {url}: {e}\")\n",
    "        return None\n",
    "\n",
    "def get_btc_prices():\n",
    "    prices = {}\n",
    "    \n",
    "    # Binance\n",
    "    data = fetch_price(\"https://api.binance.com/api/v3/ticker/price\", {\"symbol\": \"BTCUSDT\"})\n",
    "    if data:\n",
    "        prices['Binance'] = float(data['price'])\n",
    "    \n",
    "    # Coinbase\n",
    "    data = fetch_price(\"https://api.coinbase.com/v2/prices/BTC-USD/spot\")\n",
    "    if data:\n",
    "        prices['Coinbase'] = float(data['data']['amount'])\n",
    "    \n",
    "    # OKX\n",
    "    data = fetch_price(\"https://www.okx.com/api/v5/market/ticker\", {\"instId\": \"BTC-USDT\"})\n",
    "    if data and 'data' in data and len(data['data']) > 0:\n",
    "        prices['OKX'] = float(data['data'][0]['last'])\n",
    "    \n",
    "    # Gate.io\n",
    "    data = fetch_price(\"https://api.gateio.ws/api/v4/spot/tickers\", {\"currency_pair\": \"BTC_USDT\"})\n",
    "    if data and isinstance(data, list) and len(data) > 0:\n",
    "        prices['Gate.io'] = float(data[0]['last'])\n",
    "    \n",
    "    # HTX (Huobi)\n",
    "    data = fetch_price(\"https://api.huobi.pro/market/detail/merged?symbol=btcusdt\")\n",
    "    if data and 'tick' in data:\n",
    "        prices['HTX'] = float(data['tick']['close'])\n",
    "    \n",
    "    # Kraken\n",
    "    data = fetch_price(\"https://api.kraken.com/0/public/Ticker\", {\"pair\": \"XBTUSD\"})\n",
    "    if data and 'result' in data:\n",
    "        pair = list(data['result'].keys())[0]\n",
    "        prices['Kraken'] = float(data['result'][pair]['c'][0])\n",
    "    \n",
    "    # KuCoin\n",
    "    data = fetch_price(\"https://api.kucoin.com/api/v1/market/orderbook/level1\", {\"symbol\": \"BTC-USDT\"})\n",
    "    if data and 'data' in data:\n",
    "        prices['KuCoin'] = float(data['data']['price'])\n",
    "    \n",
    "    # Bitstamp\n",
    "    data = fetch_price(\"https://www.bitstamp.net/api/v2/ticker/btcusd/\")\n",
    "    if data:\n",
    "        prices['Bitstamp'] = float(data['last'])\n",
    "    \n",
    "    return prices\n",
    "\n",
    "def calculate_average(prices):\n",
    "    if not prices:\n",
    "        return None\n",
    "    return sum(prices.values()) / len(prices)\n",
    "\n",
    "def main():\n",
    "    while True:\n",
    "        prices = get_btc_prices()\n",
    "        avg_price = calculate_average(prices)\n",
    "        if avg_price:\n",
    "            print(f\"BTC Durchschnittspreis: {avg_price:.2f} USD\")\n",
    "        else:\n",
    "            print(\"Keine Preise verfügbar.\")\n",
    "        time.sleep(30)\n",
    "\n",
    "if __name__ == \"__main__\":\n",
    "    main()\n"
   ]
  },
  {
   "cell_type": "code",
   "execution_count": null,
   "id": "5ecb6cf4-1043-40d1-911b-2e8c9fadcd52",
   "metadata": {},
   "outputs": [],
   "source": []
  }
 ],
 "metadata": {
  "kernelspec": {
   "display_name": "Python 3 (ipykernel)",
   "language": "python",
   "name": "python3"
  },
  "language_info": {
   "codemirror_mode": {
    "name": "ipython",
    "version": 3
   },
   "file_extension": ".py",
   "mimetype": "text/x-python",
   "name": "python",
   "nbconvert_exporter": "python",
   "pygments_lexer": "ipython3",
   "version": "3.12.7"
  }
 },
 "nbformat": 4,
 "nbformat_minor": 5
}
