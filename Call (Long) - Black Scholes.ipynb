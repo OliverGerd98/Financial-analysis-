{
 "cells": [
  {
   "cell_type": "code",
   "execution_count": 3,
   "id": "f197f9e0-fb3d-48a5-b99e-960ab73c8056",
   "metadata": {},
   "outputs": [
    {
     "name": "stdout",
     "output_type": "stream",
     "text": [
      "Requirement already satisfied: pip in /opt/anaconda3/lib/python3.12/site-packages (25.0)\n"
     ]
    },
    {
     "name": "stderr",
     "output_type": "stream",
     "text": [
      "[*********************100%***********************]  1 of 1 completed"
     ]
    },
    {
     "name": "stdout",
     "output_type": "stream",
     "text": [
      "  Ticker  Aktienkurs  Strike  Laufzeit (Jahre)  Zinssatz  Volatilität  \\\n",
      "0   AAPL      227.63     210          2.353425      0.05     0.289737   \n",
      "\n",
      "   Berechneter Call-Preis  Marktpreis Call-Option  \n",
      "0               60.398726                    55.0  \n"
     ]
    },
    {
     "name": "stderr",
     "output_type": "stream",
     "text": [
      "\n"
     ]
    },
    {
     "data": {
      "image/png": "[encoded data removed]",
      "text/plain": [
       "<Figure size 640x480 with 1 Axes>"
      ]
     },
     "metadata": {},
     "output_type": "display_data"
    }
   ],
   "source": [
    "import sys\n",
    "import subprocess\n",
    "\n",
    "# pip aktualisieren\n",
    "subprocess.check_call([sys.executable, \"-m\", \"pip\", \"install\", \"--upgrade\", \"pip\"])\n",
    "\n",
    "# Fehlende Module automatisch installieren\n",
    "def install_and_import(package):\n",
    "    try:\n",
    "        __import__(package)\n",
    "    except ImportError:\n",
    "        subprocess.check_call([sys.executable, \"-m\", \"pip\", \"install\", package])\n",
    "        __import__(package)\n",
    "\n",
    "install_and_import(\"numpy\")\n",
    "install_and_import(\"pandas\")\n",
    "install_and_import(\"yfinance\")\n",
    "install_and_import(\"scipy\")\n",
    "install_and_import(\"matplotlib\")\n",
    "install_and_import(\"requests\")\n",
    "\n",
    "import numpy as np\n",
    "import pandas as pd\n",
    "import yfinance as yf\n",
    "from scipy.stats import norm\n",
    "import matplotlib.pyplot as plt\n",
    "from datetime import datetime\n",
    "import requests\n",
    "\n",
    "def get_historical_volatility(ticker, days=30):\n",
    "    data = yf.download(ticker, period=f'{days}d', interval='1d')\n",
    "    if data.empty:\n",
    "        raise ValueError(f\"Keine historischen Daten für {ticker} verfügbar.\")\n",
    "    close_column = 'Adj Close' if 'Adj Close' in data.columns else 'Close'\n",
    "    log_returns = np.log(data[close_column] / data[close_column].shift(1)).dropna()\n",
    "    volatility = log_returns.std() * np.sqrt(252)\n",
    "    return float(volatility.iloc[0])\n",
    "\n",
    "def black_scholes(S, K, T, r, sigma):\n",
    "    d1 = (np.log(S / K) + (r + 0.5 * sigma**2) * T) / (sigma * np.sqrt(T))\n",
    "    d2 = d1 - sigma * np.sqrt(T)\n",
    "    price = S * norm.cdf(d1) - K * np.exp(-r * T) * norm.cdf(d2)\n",
    "    return float(price)\n",
    "\n",
    "def calculate_time_to_expiry(current_date, expiry_date):\n",
    "    current_date = datetime.strptime(current_date, \"%Y-%m-%d\")\n",
    "    expiry_date = datetime.strptime(expiry_date, \"%Y-%m-%d\")\n",
    "    return (expiry_date - current_date).days / 365\n",
    "\n",
    "def get_risk_free_rate(years):\n",
    "    try:\n",
    "        url = \"https://api.stlouisfed.org/fred/series/observations?series_id=DGS10&api_key=YOUR_API_KEY&file_type=json\"\n",
    "        response = requests.get(url)\n",
    "        if response.status_code == 200:\n",
    "            data = response.json()\n",
    "            observations = data.get(\"observations\", [])\n",
    "            if observations:\n",
    "                latest_rate = float(observations[-1][\"value\"]) / 100\n",
    "                return latest_rate\n",
    "    except Exception as e:\n",
    "        print(f\"Fehler beim Abrufen des risikofreien Zinssatzes: {e}\")\n",
    "    return 0.05  # Fallback-Zinssatz falls API nicht verfügbar ist\n",
    "\n",
    "# Parameter-Eingabe\n",
    "TICKER = \"AAPL\"\n",
    "S = 227.63  # Manuell eingegebener Aktienkurs\n",
    "K = 210  # Strike-Preis\n",
    "CURRENT_DATE = \"2025-02-08\"  # Aktuelles Datum (YYYY-MM-DD)\n",
    "EXPIRY_DATE = \"2027-06-17\"  # Ausführungsdatum (YYYY-MM-DD)\n",
    "T = calculate_time_to_expiry(CURRENT_DATE, EXPIRY_DATE)\n",
    "r = get_risk_free_rate(T)  # Dynamischer risikofreier Zinssatz\n",
    "sigma = get_historical_volatility(TICKER)\n",
    "\n",
    "# Manuelle Eingabe des Marktpreises\n",
    "market_call_price = 55.0  # Manuell eingegebener Marktpreis der Call-Option\n",
    "\n",
    "# Optionspreis berechnen\n",
    "call_price = black_scholes(S, K, T, r, sigma)\n",
    "\n",
    "# Ergebnisse anzeigen\n",
    "data = pd.DataFrame({\n",
    "    \"Ticker\": [TICKER],\n",
    "    \"Aktienkurs\": [S],\n",
    "    \"Strike\": [K],\n",
    "    \"Laufzeit (Jahre)\": [T],\n",
    "    \"Zinssatz\": [r],\n",
    "    \"Volatilität\": [sigma],\n",
    "    \"Berechneter Call-Preis\": [call_price],\n",
    "    \"Marktpreis Call-Option\": [market_call_price]\n",
    "})\n",
    "\n",
    "print(data)\n",
    "\n",
    "# Übersichtlicher Monitor mit Matplotlib\n",
    "def plot_monitor(ticker, S, call_price, market_price):\n",
    "    fig, ax = plt.subplots()\n",
    "    ax.axis('off')\n",
    "    table_data = [[\"Ticker\", ticker],\n",
    "                  [\"Aktienkurs\", f\"{S:.2f}\"],\n",
    "                  [\"Berechneter Call-Preis\", f\"{call_price:.2f}\"],\n",
    "                  [\"Marktpreis Call-Option\", f\"{market_price:.2f}\"]]\n",
    "    table = ax.table(cellText=table_data, loc='center', cellLoc='center')\n",
    "    table.scale(1, 1.5)\n",
    "    plt.show()\n",
    "\n",
    "plot_monitor(TICKER, S, call_price, market_call_price)\n"
   ]
  },
  {
   "cell_type": "code",
   "execution_count": 5,
   "id": "1bd9b471-9b7c-438b-bf95-c0ebeaad362f",
   "metadata": {},
   "outputs": [],
   "source": [
    "\"Nasdaq Options Chain\""
   ]
  },
  {
   "cell_type": "code",
   "execution_count": null,
   "id": "50a95328-b473-4d9a-83a3-e925adfb4840",
   "metadata": {},
   "outputs": [],
   "source": []
  }
 ],
 "metadata": {
  "kernelspec": {
   "display_name": "Python 3 (ipykernel)",
   "language": "python",
   "name": "python3"
  },
  "language_info": {
   "codemirror_mode": {
    "name": "ipython",
    "version": 3
   },
   "file_extension": ".py",
   "mimetype": "text/x-python",
   "name": "python",
   "nbconvert_exporter": "python",
   "pygments_lexer": "ipython3",
   "version": "3.12.7"
  }
 },
 "nbformat": 4,
 "nbformat_minor": 5
}
